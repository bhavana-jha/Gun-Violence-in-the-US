{
 "cells": [
  {
   "cell_type": "markdown",
   "id": "d5c335b4-da4f-46ae-b003-19459cfd34fe",
   "metadata": {},
   "source": [
    "# This script contains:\n",
    "1. Import of Libraries and datasets\n",
    "2. Data Prep for regression analysis\n",
    "3. Conducting regression analysis \n",
    "4. Preparing data for analysis"
   ]
  },
  {
   "cell_type": "code",
   "execution_count": 2,
   "id": "ce4cb801-ea7b-49d1-a858-e1198afce4ab",
   "metadata": {},
   "outputs": [],
   "source": [
    "import pandas as pd\n",
    "import numpy as np\n",
    "import seaborn as sns\n",
    "import matplotlib\n",
    "import matplotlib.pyplot as plt\n",
    "import os\n",
    "import sklearn\n",
    "from sklearn.model_selection import train_test_split \n",
    "from sklearn.linear_model import LinearRegression\n",
    "from sklearn.metrics import mean_squared_error, r2_score"
   ]
  },
  {
   "cell_type": "code",
   "execution_count": 3,
   "id": "72cccf2e-e91a-4acf-b091-ae50497c4bf0",
   "metadata": {},
   "outputs": [],
   "source": [
    "# Command to directly display charts in the notebook without 'call' command\n",
    "%matplotlib inline"
   ]
  },
  {
   "cell_type": "code",
   "execution_count": 4,
   "id": "e861a982-156e-4dac-9f81-5c829db118e9",
   "metadata": {},
   "outputs": [],
   "source": [
    "# Importing Dataset\n",
    "df=pd.read_csv(r'/Users/navneetjha/Desktop/Career foundry Docs/exercises/Data Immersion /Achievement 6/Exercises/Dataset/gun_violence_wrangled',index_col=False)"
   ]
  },
  {
   "cell_type": "code",
   "execution_count": 5,
   "id": "0c919452-3872-4700-a7d9-84f1d7c93eb7",
   "metadata": {},
   "outputs": [
    {
     "data": {
      "text/html": [
       "<div>\n",
       "<style scoped>\n",
       "    .dataframe tbody tr th:only-of-type {\n",
       "        vertical-align: middle;\n",
       "    }\n",
       "\n",
       "    .dataframe tbody tr th {\n",
       "        vertical-align: top;\n",
       "    }\n",
       "\n",
       "    .dataframe thead th {\n",
       "        text-align: right;\n",
       "    }\n",
       "</style>\n",
       "<table border=\"1\" class=\"dataframe\">\n",
       "  <thead>\n",
       "    <tr style=\"text-align: right;\">\n",
       "      <th></th>\n",
       "      <th>incident_id</th>\n",
       "      <th>date</th>\n",
       "      <th>state</th>\n",
       "      <th>city/county</th>\n",
       "      <th>address</th>\n",
       "      <th>n_killed</th>\n",
       "      <th>n_injured</th>\n",
       "      <th>congressional_district</th>\n",
       "      <th>gun_stolen</th>\n",
       "      <th>gun_type</th>\n",
       "      <th>...</th>\n",
       "      <th>latitude</th>\n",
       "      <th>longitude</th>\n",
       "      <th>n_guns_involved</th>\n",
       "      <th>age</th>\n",
       "      <th>age_group</th>\n",
       "      <th>gender</th>\n",
       "      <th>status</th>\n",
       "      <th>type</th>\n",
       "      <th>state_house_district</th>\n",
       "      <th>state_senate_district</th>\n",
       "    </tr>\n",
       "  </thead>\n",
       "  <tbody>\n",
       "    <tr>\n",
       "      <th>0</th>\n",
       "      <td>478855</td>\n",
       "      <td>2013-01-01</td>\n",
       "      <td>Ohio</td>\n",
       "      <td>Lorain</td>\n",
       "      <td>1776 East 28th Street</td>\n",
       "      <td>1</td>\n",
       "      <td>3</td>\n",
       "      <td>9.0</td>\n",
       "      <td>0::Unknown||1::Unknown</td>\n",
       "      <td>0::Unknown||1::Unknown</td>\n",
       "      <td>...</td>\n",
       "      <td>41.4455</td>\n",
       "      <td>-82.1377</td>\n",
       "      <td>2.0</td>\n",
       "      <td>0::25||1::31||2::33||3::34||4::33</td>\n",
       "      <td>0::Adult 18+||1::Adult 18+||2::Adult 18+||3::A...</td>\n",
       "      <td>0::Male||1::Male||2::Male||3::Male||4::Male</td>\n",
       "      <td>0::Injured, Unharmed, Arrested||1::Unharmed, A...</td>\n",
       "      <td>0::Subject-Suspect||1::Subject-Suspect||2::Vic...</td>\n",
       "      <td>56.0</td>\n",
       "      <td>13.0</td>\n",
       "    </tr>\n",
       "    <tr>\n",
       "      <th>1</th>\n",
       "      <td>478959</td>\n",
       "      <td>2013-01-07</td>\n",
       "      <td>North Carolina</td>\n",
       "      <td>Greensboro</td>\n",
       "      <td>307 Mourning Dove Terrace</td>\n",
       "      <td>2</td>\n",
       "      <td>2</td>\n",
       "      <td>6.0</td>\n",
       "      <td>0::Unknown||1::Unknown</td>\n",
       "      <td>0::Handgun||1::Handgun</td>\n",
       "      <td>...</td>\n",
       "      <td>36.1140</td>\n",
       "      <td>-79.9569</td>\n",
       "      <td>2.0</td>\n",
       "      <td>0::18||1::46||2::14||3::47</td>\n",
       "      <td>0::Adult 18+||1::Adult 18+||2::Teen 12-17||3::...</td>\n",
       "      <td>0::Female||1::Male||2::Male||3::Female</td>\n",
       "      <td>0::Injured||1::Injured||2::Killed||3::Killed</td>\n",
       "      <td>0::Victim||1::Victim||2::Victim||3::Subject-Su...</td>\n",
       "      <td>62.0</td>\n",
       "      <td>27.0</td>\n",
       "    </tr>\n",
       "    <tr>\n",
       "      <th>2</th>\n",
       "      <td>479363</td>\n",
       "      <td>2013-01-19</td>\n",
       "      <td>New Mexico</td>\n",
       "      <td>Albuquerque</td>\n",
       "      <td>2806 Long Lane</td>\n",
       "      <td>5</td>\n",
       "      <td>0</td>\n",
       "      <td>1.0</td>\n",
       "      <td>0::Unknown||1::Unknown</td>\n",
       "      <td>0::22 LR||1::223 Rem [AR-15]</td>\n",
       "      <td>...</td>\n",
       "      <td>34.9791</td>\n",
       "      <td>-106.7160</td>\n",
       "      <td>2.0</td>\n",
       "      <td>0::51||1::40||2::9||3::5||4::2||5::15</td>\n",
       "      <td>0::Adult 18+||1::Adult 18+||2::Child 0-11||3::...</td>\n",
       "      <td>0::Male||1::Female||2::Male||3::Female||4::Fem...</td>\n",
       "      <td>0::Killed||1::Killed||2::Killed||3::Killed||4:...</td>\n",
       "      <td>0::Victim||1::Victim||2::Victim||3::Victim||4:...</td>\n",
       "      <td>10.0</td>\n",
       "      <td>14.0</td>\n",
       "    </tr>\n",
       "    <tr>\n",
       "      <th>3</th>\n",
       "      <td>491674</td>\n",
       "      <td>2013-01-23</td>\n",
       "      <td>Tennessee</td>\n",
       "      <td>Chattanooga</td>\n",
       "      <td>1501 Dodds Ave</td>\n",
       "      <td>1</td>\n",
       "      <td>3</td>\n",
       "      <td>3.0</td>\n",
       "      <td>0::Unknown</td>\n",
       "      <td>0::Unknown</td>\n",
       "      <td>...</td>\n",
       "      <td>35.0221</td>\n",
       "      <td>-85.2697</td>\n",
       "      <td>1.0</td>\n",
       "      <td>0::19</td>\n",
       "      <td>0::Adult 18+</td>\n",
       "      <td>0::Male||1::Male||2::Male||3::Male</td>\n",
       "      <td>0::Killed||1::Injured||2::Injured||3::Injured</td>\n",
       "      <td>0::Victim||1::Victim||2::Victim||3::Victim||4:...</td>\n",
       "      <td>28.0</td>\n",
       "      <td>10.0</td>\n",
       "    </tr>\n",
       "    <tr>\n",
       "      <th>4</th>\n",
       "      <td>479413</td>\n",
       "      <td>2013-01-25</td>\n",
       "      <td>Missouri</td>\n",
       "      <td>Saint Louis</td>\n",
       "      <td>W Florissant Ave and Riverview Blvd</td>\n",
       "      <td>1</td>\n",
       "      <td>3</td>\n",
       "      <td>1.0</td>\n",
       "      <td>0::Unknown</td>\n",
       "      <td>0::Unknown</td>\n",
       "      <td>...</td>\n",
       "      <td>38.7067</td>\n",
       "      <td>-90.2494</td>\n",
       "      <td>1.0</td>\n",
       "      <td>0::28</td>\n",
       "      <td>0::Adult 18+</td>\n",
       "      <td>0::Male</td>\n",
       "      <td>0::Killed||1::Injured||2::Injured||3::Injured</td>\n",
       "      <td>0::Victim||1::Victim||2::Victim||3::Victim||4:...</td>\n",
       "      <td>76.0</td>\n",
       "      <td>4.0</td>\n",
       "    </tr>\n",
       "  </tbody>\n",
       "</table>\n",
       "<p>5 rows × 21 columns</p>\n",
       "</div>"
      ],
      "text/plain": [
       "   incident_id        date           state  city/county  \\\n",
       "0       478855  2013-01-01            Ohio       Lorain   \n",
       "1       478959  2013-01-07  North Carolina   Greensboro   \n",
       "2       479363  2013-01-19      New Mexico  Albuquerque   \n",
       "3       491674  2013-01-23       Tennessee  Chattanooga   \n",
       "4       479413  2013-01-25        Missouri  Saint Louis   \n",
       "\n",
       "                               address  n_killed  n_injured  \\\n",
       "0                1776 East 28th Street         1          3   \n",
       "1            307 Mourning Dove Terrace         2          2   \n",
       "2                       2806 Long Lane         5          0   \n",
       "3                       1501 Dodds Ave         1          3   \n",
       "4  W Florissant Ave and Riverview Blvd         1          3   \n",
       "\n",
       "   congressional_district              gun_stolen  \\\n",
       "0                     9.0  0::Unknown||1::Unknown   \n",
       "1                     6.0  0::Unknown||1::Unknown   \n",
       "2                     1.0  0::Unknown||1::Unknown   \n",
       "3                     3.0              0::Unknown   \n",
       "4                     1.0              0::Unknown   \n",
       "\n",
       "                       gun_type  ... latitude  longitude  n_guns_involved  \\\n",
       "0        0::Unknown||1::Unknown  ...  41.4455   -82.1377              2.0   \n",
       "1        0::Handgun||1::Handgun  ...  36.1140   -79.9569              2.0   \n",
       "2  0::22 LR||1::223 Rem [AR-15]  ...  34.9791  -106.7160              2.0   \n",
       "3                    0::Unknown  ...  35.0221   -85.2697              1.0   \n",
       "4                    0::Unknown  ...  38.7067   -90.2494              1.0   \n",
       "\n",
       "                                     age  \\\n",
       "0      0::25||1::31||2::33||3::34||4::33   \n",
       "1             0::18||1::46||2::14||3::47   \n",
       "2  0::51||1::40||2::9||3::5||4::2||5::15   \n",
       "3                                  0::19   \n",
       "4                                  0::28   \n",
       "\n",
       "                                           age_group  \\\n",
       "0  0::Adult 18+||1::Adult 18+||2::Adult 18+||3::A...   \n",
       "1  0::Adult 18+||1::Adult 18+||2::Teen 12-17||3::...   \n",
       "2  0::Adult 18+||1::Adult 18+||2::Child 0-11||3::...   \n",
       "3                                       0::Adult 18+   \n",
       "4                                       0::Adult 18+   \n",
       "\n",
       "                                              gender  \\\n",
       "0        0::Male||1::Male||2::Male||3::Male||4::Male   \n",
       "1             0::Female||1::Male||2::Male||3::Female   \n",
       "2  0::Male||1::Female||2::Male||3::Female||4::Fem...   \n",
       "3                 0::Male||1::Male||2::Male||3::Male   \n",
       "4                                            0::Male   \n",
       "\n",
       "                                              status  \\\n",
       "0  0::Injured, Unharmed, Arrested||1::Unharmed, A...   \n",
       "1       0::Injured||1::Injured||2::Killed||3::Killed   \n",
       "2  0::Killed||1::Killed||2::Killed||3::Killed||4:...   \n",
       "3      0::Killed||1::Injured||2::Injured||3::Injured   \n",
       "4      0::Killed||1::Injured||2::Injured||3::Injured   \n",
       "\n",
       "                                                type state_house_district  \\\n",
       "0  0::Subject-Suspect||1::Subject-Suspect||2::Vic...                 56.0   \n",
       "1  0::Victim||1::Victim||2::Victim||3::Subject-Su...                 62.0   \n",
       "2  0::Victim||1::Victim||2::Victim||3::Victim||4:...                 10.0   \n",
       "3  0::Victim||1::Victim||2::Victim||3::Victim||4:...                 28.0   \n",
       "4  0::Victim||1::Victim||2::Victim||3::Victim||4:...                 76.0   \n",
       "\n",
       "   state_senate_district  \n",
       "0                   13.0  \n",
       "1                   27.0  \n",
       "2                   14.0  \n",
       "3                   10.0  \n",
       "4                    4.0  \n",
       "\n",
       "[5 rows x 21 columns]"
      ]
     },
     "execution_count": 5,
     "metadata": {},
     "output_type": "execute_result"
    }
   ],
   "source": [
    "df.head()"
   ]
  },
  {
   "cell_type": "code",
   "execution_count": 6,
   "id": "c2fd19ca-4a3f-4dc4-a401-ed0ad0c90d00",
   "metadata": {},
   "outputs": [
    {
     "data": {
      "text/plain": [
       "(45403, 21)"
      ]
     },
     "execution_count": 6,
     "metadata": {},
     "output_type": "execute_result"
    }
   ],
   "source": [
    "df.shape"
   ]
  },
  {
   "cell_type": "code",
   "execution_count": 7,
   "id": "fd777c7e-cac8-4300-aa02-f79897553ce8",
   "metadata": {},
   "outputs": [
    {
     "data": {
      "text/plain": [
       "Index(['incident_id', 'date', 'state', 'city/county', 'address', 'n_killed',\n",
       "       'n_injured', 'congressional_district', 'gun_stolen', 'gun_type',\n",
       "       'incident_characteristics', 'latitude', 'longitude', 'n_guns_involved',\n",
       "       'age', 'age_group', 'gender', 'status', 'type', 'state_house_district',\n",
       "       'state_senate_district'],\n",
       "      dtype='object')"
      ]
     },
     "execution_count": 7,
     "metadata": {},
     "output_type": "execute_result"
    }
   ],
   "source": [
    "df.columns"
   ]
  },
  {
   "cell_type": "markdown",
   "id": "1fb29329-68c3-48bd-9a5b-3d79e637b537",
   "metadata": {},
   "source": [
    "## 2. Data Prep for regression analysis"
   ]
  },
  {
   "cell_type": "code",
   "execution_count": 9,
   "id": "6f67dd46-9064-4063-bb71-f48067c2558a",
   "metadata": {},
   "outputs": [],
   "source": [
    "# Referencing relevant columns\n",
    "columns=['date','state','n_killed','n_injured','age_group','gender','status']"
   ]
  },
  {
   "cell_type": "code",
   "execution_count": 10,
   "id": "47c2f1d0-0e91-496e-a602-080ee8cf600a",
   "metadata": {},
   "outputs": [],
   "source": [
    "#Making dataframe of the relevant columns\n",
    "df_2=df[columns]"
   ]
  },
  {
   "cell_type": "code",
   "execution_count": 11,
   "id": "b45a30bf-38c2-4321-8116-437bfaa3104d",
   "metadata": {},
   "outputs": [
    {
     "data": {
      "text/html": [
       "<div>\n",
       "<style scoped>\n",
       "    .dataframe tbody tr th:only-of-type {\n",
       "        vertical-align: middle;\n",
       "    }\n",
       "\n",
       "    .dataframe tbody tr th {\n",
       "        vertical-align: top;\n",
       "    }\n",
       "\n",
       "    .dataframe thead th {\n",
       "        text-align: right;\n",
       "    }\n",
       "</style>\n",
       "<table border=\"1\" class=\"dataframe\">\n",
       "  <thead>\n",
       "    <tr style=\"text-align: right;\">\n",
       "      <th></th>\n",
       "      <th>date</th>\n",
       "      <th>state</th>\n",
       "      <th>n_killed</th>\n",
       "      <th>n_injured</th>\n",
       "      <th>age_group</th>\n",
       "      <th>gender</th>\n",
       "      <th>status</th>\n",
       "    </tr>\n",
       "  </thead>\n",
       "  <tbody>\n",
       "    <tr>\n",
       "      <th>0</th>\n",
       "      <td>2013-01-01</td>\n",
       "      <td>Ohio</td>\n",
       "      <td>1</td>\n",
       "      <td>3</td>\n",
       "      <td>0::Adult 18+||1::Adult 18+||2::Adult 18+||3::A...</td>\n",
       "      <td>0::Male||1::Male||2::Male||3::Male||4::Male</td>\n",
       "      <td>0::Injured, Unharmed, Arrested||1::Unharmed, A...</td>\n",
       "    </tr>\n",
       "    <tr>\n",
       "      <th>1</th>\n",
       "      <td>2013-01-07</td>\n",
       "      <td>North Carolina</td>\n",
       "      <td>2</td>\n",
       "      <td>2</td>\n",
       "      <td>0::Adult 18+||1::Adult 18+||2::Teen 12-17||3::...</td>\n",
       "      <td>0::Female||1::Male||2::Male||3::Female</td>\n",
       "      <td>0::Injured||1::Injured||2::Killed||3::Killed</td>\n",
       "    </tr>\n",
       "    <tr>\n",
       "      <th>2</th>\n",
       "      <td>2013-01-19</td>\n",
       "      <td>New Mexico</td>\n",
       "      <td>5</td>\n",
       "      <td>0</td>\n",
       "      <td>0::Adult 18+||1::Adult 18+||2::Child 0-11||3::...</td>\n",
       "      <td>0::Male||1::Female||2::Male||3::Female||4::Fem...</td>\n",
       "      <td>0::Killed||1::Killed||2::Killed||3::Killed||4:...</td>\n",
       "    </tr>\n",
       "    <tr>\n",
       "      <th>3</th>\n",
       "      <td>2013-01-23</td>\n",
       "      <td>Tennessee</td>\n",
       "      <td>1</td>\n",
       "      <td>3</td>\n",
       "      <td>0::Adult 18+</td>\n",
       "      <td>0::Male||1::Male||2::Male||3::Male</td>\n",
       "      <td>0::Killed||1::Injured||2::Injured||3::Injured</td>\n",
       "    </tr>\n",
       "    <tr>\n",
       "      <th>4</th>\n",
       "      <td>2013-01-25</td>\n",
       "      <td>Missouri</td>\n",
       "      <td>1</td>\n",
       "      <td>3</td>\n",
       "      <td>0::Adult 18+</td>\n",
       "      <td>0::Male</td>\n",
       "      <td>0::Killed||1::Injured||2::Injured||3::Injured</td>\n",
       "    </tr>\n",
       "  </tbody>\n",
       "</table>\n",
       "</div>"
      ],
      "text/plain": [
       "         date           state  n_killed  n_injured  \\\n",
       "0  2013-01-01            Ohio         1          3   \n",
       "1  2013-01-07  North Carolina         2          2   \n",
       "2  2013-01-19      New Mexico         5          0   \n",
       "3  2013-01-23       Tennessee         1          3   \n",
       "4  2013-01-25        Missouri         1          3   \n",
       "\n",
       "                                           age_group  \\\n",
       "0  0::Adult 18+||1::Adult 18+||2::Adult 18+||3::A...   \n",
       "1  0::Adult 18+||1::Adult 18+||2::Teen 12-17||3::...   \n",
       "2  0::Adult 18+||1::Adult 18+||2::Child 0-11||3::...   \n",
       "3                                       0::Adult 18+   \n",
       "4                                       0::Adult 18+   \n",
       "\n",
       "                                              gender  \\\n",
       "0        0::Male||1::Male||2::Male||3::Male||4::Male   \n",
       "1             0::Female||1::Male||2::Male||3::Female   \n",
       "2  0::Male||1::Female||2::Male||3::Female||4::Fem...   \n",
       "3                 0::Male||1::Male||2::Male||3::Male   \n",
       "4                                            0::Male   \n",
       "\n",
       "                                              status  \n",
       "0  0::Injured, Unharmed, Arrested||1::Unharmed, A...  \n",
       "1       0::Injured||1::Injured||2::Killed||3::Killed  \n",
       "2  0::Killed||1::Killed||2::Killed||3::Killed||4:...  \n",
       "3      0::Killed||1::Injured||2::Injured||3::Injured  \n",
       "4      0::Killed||1::Injured||2::Injured||3::Injured  "
      ]
     },
     "execution_count": 11,
     "metadata": {},
     "output_type": "execute_result"
    }
   ],
   "source": [
    "df_2.head()"
   ]
  },
  {
   "cell_type": "code",
   "execution_count": 12,
   "id": "9164a5c0-1954-4828-a1a7-4af749b2dc83",
   "metadata": {},
   "outputs": [
    {
     "data": {
      "text/plain": [
       "(45403, 7)"
      ]
     },
     "execution_count": 12,
     "metadata": {},
     "output_type": "execute_result"
    }
   ],
   "source": [
    "df_2.shape"
   ]
  },
  {
   "cell_type": "code",
   "execution_count": 13,
   "id": "31aeebb7-17c5-432e-b99a-44a919d62f11",
   "metadata": {},
   "outputs": [
    {
     "data": {
      "image/png": "[encoded data removed]",
      "text/plain": [
       "<Figure size 640x480 with 1 Axes>"
      ]
     },
     "metadata": {},
     "output_type": "display_data"
    }
   ],
   "source": [
    "# Creating a scatterplot using matplotlib for another look at how the chosen variables plot against each other.\n",
    "\n",
    "df_2.plot(x = 'n_killed', y='n_injured',style='o') # The style option creates a scatterplot; without it, we only have lines.\n",
    "plt.title('n_killed vs n_injured')  \n",
    "plt.xlabel('n_killed')  \n",
    "plt.ylabel('n_injured')  \n",
    "plt.show()"
   ]
  },
  {
   "cell_type": "markdown",
   "id": "48244a8e-3153-466b-8814-96c4ba119116",
   "metadata": {},
   "source": [
    "According to this scatterplot, the relation between number of people killed and no. of people injured from gun violence have negative linear relation. Except in some exceptional cases. Largely we can see that when the no. of people killed increased, the no. of people injured from the violence has decreased. "
   ]
  },
  {
   "cell_type": "code",
   "execution_count": 15,
   "id": "6d10ae6b-7102-478c-92b0-181c8765970b",
   "metadata": {},
   "outputs": [],
   "source": [
    "# Reshaping the variables into NumPy arrays and putting them into separate objects.\n",
    "\n",
    "X = df_2['n_killed'].values.reshape(-1,1)\n",
    "y = df_2['n_injured'].values.reshape(-1,1)"
   ]
  },
  {
   "cell_type": "code",
   "execution_count": 16,
   "id": "52d5e73b-adaa-49d4-9086-47a4ac201cab",
   "metadata": {},
   "outputs": [
    {
     "data": {
      "text/plain": [
       "array([[1],\n",
       "       [2],\n",
       "       [5],\n",
       "       ...,\n",
       "       [0],\n",
       "       [1],\n",
       "       [2]])"
      ]
     },
     "execution_count": 16,
     "metadata": {},
     "output_type": "execute_result"
    }
   ],
   "source": [
    "X"
   ]
  },
  {
   "cell_type": "code",
   "execution_count": 17,
   "id": "6762f5ca-aa43-43a5-abce-f8167c3dcba9",
   "metadata": {},
   "outputs": [
    {
     "data": {
      "text/plain": [
       "array([[3],\n",
       "       [2],\n",
       "       [0],\n",
       "       ...,\n",
       "       [1],\n",
       "       [0],\n",
       "       [0]])"
      ]
     },
     "execution_count": 17,
     "metadata": {},
     "output_type": "execute_result"
    }
   ],
   "source": [
    "y"
   ]
  },
  {
   "cell_type": "code",
   "execution_count": 18,
   "id": "d50930e6-0f35-4d91-b750-97537ba6451b",
   "metadata": {},
   "outputs": [],
   "source": [
    "# Splitting data into a training set and a test set.\n",
    "\n",
    "X_train, X_test, y_train, y_test = train_test_split(X, y, test_size=0.3, random_state=0)"
   ]
  },
  {
   "cell_type": "markdown",
   "id": "aee1e364-2a0c-4b96-bf5b-efac0f57741f",
   "metadata": {},
   "source": [
    "## 3. Conducting regression analysis"
   ]
  },
  {
   "cell_type": "code",
   "execution_count": 20,
   "id": "3f43635a-ef32-4bbc-931b-13e83893a0e8",
   "metadata": {},
   "outputs": [],
   "source": [
    "# Create a regression object.\n",
    "\n",
    "regression = LinearRegression()"
   ]
  },
  {
   "cell_type": "code",
   "execution_count": 21,
   "id": "760ac4b6-d489-434a-89c9-ae100443d32b",
   "metadata": {},
   "outputs": [
    {
     "data": {
      "text/html": [
       "<style>#sk-container-id-1 {color: black;}#sk-container-id-1 pre{padding: 0;}#sk-container-id-1 div.sk-toggleable {background-color: white;}#sk-container-id-1 label.sk-toggleable__label {cursor: pointer;display: block;width: 100%;margin-bottom: 0;padding: 0.3em;box-sizing: border-box;text-align: center;}#sk-container-id-1 label.sk-toggleable__label-arrow:before {content: \"▸\";float: left;margin-right: 0.25em;color: #696969;}#sk-container-id-1 label.sk-toggleable__label-arrow:hover:before {color: black;}#sk-container-id-1 div.sk-estimator:hover label.sk-toggleable__label-arrow:before {color: black;}#sk-container-id-1 div.sk-toggleable__content {max-height: 0;max-width: 0;overflow: hidden;text-align: left;background-color: #f0f8ff;}#sk-container-id-1 div.sk-toggleable__content pre {margin: 0.2em;color: black;border-radius: 0.25em;background-color: #f0f8ff;}#sk-container-id-1 input.sk-toggleable__control:checked~div.sk-toggleable__content {max-height: 200px;max-width: 100%;overflow: auto;}#sk-container-id-1 input.sk-toggleable__control:checked~label.sk-toggleable__label-arrow:before {content: \"▾\";}#sk-container-id-1 div.sk-estimator input.sk-toggleable__control:checked~label.sk-toggleable__label {background-color: #d4ebff;}#sk-container-id-1 div.sk-label input.sk-toggleable__control:checked~label.sk-toggleable__label {background-color: #d4ebff;}#sk-container-id-1 input.sk-hidden--visually {border: 0;clip: rect(1px 1px 1px 1px);clip: rect(1px, 1px, 1px, 1px);height: 1px;margin: -1px;overflow: hidden;padding: 0;position: absolute;width: 1px;}#sk-container-id-1 div.sk-estimator {font-family: monospace;background-color: #f0f8ff;border: 1px dotted black;border-radius: 0.25em;box-sizing: border-box;margin-bottom: 0.5em;}#sk-container-id-1 div.sk-estimator:hover {background-color: #d4ebff;}#sk-container-id-1 div.sk-parallel-item::after {content: \"\";width: 100%;border-bottom: 1px solid gray;flex-grow: 1;}#sk-container-id-1 div.sk-label:hover label.sk-toggleable__label {background-color: #d4ebff;}#sk-container-id-1 div.sk-serial::before {content: \"\";position: absolute;border-left: 1px solid gray;box-sizing: border-box;top: 0;bottom: 0;left: 50%;z-index: 0;}#sk-container-id-1 div.sk-serial {display: flex;flex-direction: column;align-items: center;background-color: white;padding-right: 0.2em;padding-left: 0.2em;position: relative;}#sk-container-id-1 div.sk-item {position: relative;z-index: 1;}#sk-container-id-1 div.sk-parallel {display: flex;align-items: stretch;justify-content: center;background-color: white;position: relative;}#sk-container-id-1 div.sk-item::before, #sk-container-id-1 div.sk-parallel-item::before {content: \"\";position: absolute;border-left: 1px solid gray;box-sizing: border-box;top: 0;bottom: 0;left: 50%;z-index: -1;}#sk-container-id-1 div.sk-parallel-item {display: flex;flex-direction: column;z-index: 1;position: relative;background-color: white;}#sk-container-id-1 div.sk-parallel-item:first-child::after {align-self: flex-end;width: 50%;}#sk-container-id-1 div.sk-parallel-item:last-child::after {align-self: flex-start;width: 50%;}#sk-container-id-1 div.sk-parallel-item:only-child::after {width: 0;}#sk-container-id-1 div.sk-dashed-wrapped {border: 1px dashed gray;margin: 0 0.4em 0.5em 0.4em;box-sizing: border-box;padding-bottom: 0.4em;background-color: white;}#sk-container-id-1 div.sk-label label {font-family: monospace;font-weight: bold;display: inline-block;line-height: 1.2em;}#sk-container-id-1 div.sk-label-container {text-align: center;}#sk-container-id-1 div.sk-container {/* jupyter's `normalize.less` sets `[hidden] { display: none; }` but bootstrap.min.css set `[hidden] { display: none !important; }` so we also need the `!important` here to be able to override the default hidden behavior on the sphinx rendered scikit-learn.org. See: https://github.com/scikit-learn/scikit-learn/issues/21755 */display: inline-block !important;position: relative;}#sk-container-id-1 div.sk-text-repr-fallback {display: none;}</style><div id=\"sk-container-id-1\" class=\"sk-top-container\"><div class=\"sk-text-repr-fallback\"><pre>LinearRegression()</pre><b>In a Jupyter environment, please rerun this cell to show the HTML representation or trust the notebook. <br />On GitHub, the HTML representation is unable to render, please try loading this page with nbviewer.org.</b></div><div class=\"sk-container\" hidden><div class=\"sk-item\"><div class=\"sk-estimator sk-toggleable\"><input class=\"sk-toggleable__control sk-hidden--visually\" id=\"sk-estimator-id-1\" type=\"checkbox\" checked><label for=\"sk-estimator-id-1\" class=\"sk-toggleable__label sk-toggleable__label-arrow\">LinearRegression</label><div class=\"sk-toggleable__content\"><pre>LinearRegression()</pre></div></div></div></div></div>"
      ],
      "text/plain": [
       "LinearRegression()"
      ]
     },
     "execution_count": 21,
     "metadata": {},
     "output_type": "execute_result"
    }
   ],
   "source": [
    "# Fit the regression object onto the training set.\n",
    "\n",
    "regression.fit(X_train, y_train)"
   ]
  },
  {
   "cell_type": "code",
   "execution_count": 22,
   "id": "2b78a5a9-c5be-4cf8-8780-f2ad58cb7e0f",
   "metadata": {},
   "outputs": [],
   "source": [
    "# Predicting the values of y using X.\n",
    "\n",
    "y_predicted = regression.predict(X_test)"
   ]
  },
  {
   "cell_type": "code",
   "execution_count": 23,
   "id": "ea03acd6-7f2a-4e69-8f82-7886728404f4",
   "metadata": {},
   "outputs": [
    {
     "data": {
      "image/png": "[encoded data removed]",
      "text/plain": [
       "<Figure size 640x480 with 1 Axes>"
      ]
     },
     "metadata": {},
     "output_type": "display_data"
    }
   ],
   "source": [
    "# Creating a plot that shows the regression line from the model on the test set.\n",
    "\n",
    "plot_test = plt\n",
    "plot_test.scatter(X_test, y_test, color='gray', s = 15)\n",
    "plot_test.plot(X_test, y_predicted, color='red', linewidth =3)\n",
    "plot_test.title('n_killed vs n_injured (Test set)')\n",
    "plot_test.xlabel('n_killed')\n",
    "plot_test.ylabel('n_injured')\n",
    "plot_test.show()"
   ]
  },
  {
   "cell_type": "code",
   "execution_count": 24,
   "id": "55a434af-baa9-4740-aed2-7ad07c6a71c0",
   "metadata": {},
   "outputs": [],
   "source": [
    "# Creating objects that contain the model summary statistics.\n",
    "\n",
    "rmse = mean_squared_error(y_test, y_predicted) # This is the mean squared error\n",
    "r2 = r2_score(y_test, y_predicted)# This is the R2 score. "
   ]
  },
  {
   "cell_type": "code",
   "execution_count": 25,
   "id": "1fd607a6-cb9a-4057-b314-483ee382820f",
   "metadata": {},
   "outputs": [
    {
     "name": "stdout",
     "output_type": "stream",
     "text": [
      "Slope: [[-0.31335697]]\n",
      "Mean squared error:  0.5621887568465109\n",
      "R2 score:  0.1311341743535458\n"
     ]
    }
   ],
   "source": [
    "# Print the model summary statistics to evaluate the performance of the model.\n",
    "\n",
    "print('Slope:' ,regression.coef_)\n",
    "print('Mean squared error: ', rmse)\n",
    "print('R2 score: ', r2)"
   ]
  },
  {
   "cell_type": "code",
   "execution_count": 26,
   "id": "f133b600-5219-4393-aba8-e0696bd90c32",
   "metadata": {},
   "outputs": [
    {
     "data": {
      "text/plain": [
       "array([[0.91453244],\n",
       "       [0.91453244],\n",
       "       [0.91453244],\n",
       "       ...,\n",
       "       [0.91453244],\n",
       "       [0.60117546],\n",
       "       [0.91453244]])"
      ]
     },
     "execution_count": 26,
     "metadata": {},
     "output_type": "execute_result"
    }
   ],
   "source": [
    "y_predicted"
   ]
  },
  {
   "cell_type": "code",
   "execution_count": 27,
   "id": "9fa86ade-0e49-4f15-8689-4ef4d887e9a6",
   "metadata": {},
   "outputs": [
    {
     "data": {
      "text/html": [
       "<div>\n",
       "<style scoped>\n",
       "    .dataframe tbody tr th:only-of-type {\n",
       "        vertical-align: middle;\n",
       "    }\n",
       "\n",
       "    .dataframe tbody tr th {\n",
       "        vertical-align: top;\n",
       "    }\n",
       "\n",
       "    .dataframe thead th {\n",
       "        text-align: right;\n",
       "    }\n",
       "</style>\n",
       "<table border=\"1\" class=\"dataframe\">\n",
       "  <thead>\n",
       "    <tr style=\"text-align: right;\">\n",
       "      <th></th>\n",
       "      <th>Actual</th>\n",
       "      <th>Predicted</th>\n",
       "    </tr>\n",
       "  </thead>\n",
       "  <tbody>\n",
       "    <tr>\n",
       "      <th>0</th>\n",
       "      <td>1</td>\n",
       "      <td>0.914532</td>\n",
       "    </tr>\n",
       "    <tr>\n",
       "      <th>1</th>\n",
       "      <td>2</td>\n",
       "      <td>0.914532</td>\n",
       "    </tr>\n",
       "    <tr>\n",
       "      <th>2</th>\n",
       "      <td>1</td>\n",
       "      <td>0.914532</td>\n",
       "    </tr>\n",
       "    <tr>\n",
       "      <th>3</th>\n",
       "      <td>0</td>\n",
       "      <td>0.601175</td>\n",
       "    </tr>\n",
       "    <tr>\n",
       "      <th>4</th>\n",
       "      <td>0</td>\n",
       "      <td>0.601175</td>\n",
       "    </tr>\n",
       "    <tr>\n",
       "      <th>5</th>\n",
       "      <td>1</td>\n",
       "      <td>0.914532</td>\n",
       "    </tr>\n",
       "    <tr>\n",
       "      <th>6</th>\n",
       "      <td>1</td>\n",
       "      <td>0.601175</td>\n",
       "    </tr>\n",
       "    <tr>\n",
       "      <th>7</th>\n",
       "      <td>1</td>\n",
       "      <td>0.914532</td>\n",
       "    </tr>\n",
       "    <tr>\n",
       "      <th>8</th>\n",
       "      <td>1</td>\n",
       "      <td>0.914532</td>\n",
       "    </tr>\n",
       "    <tr>\n",
       "      <th>9</th>\n",
       "      <td>1</td>\n",
       "      <td>0.601175</td>\n",
       "    </tr>\n",
       "    <tr>\n",
       "      <th>10</th>\n",
       "      <td>1</td>\n",
       "      <td>0.914532</td>\n",
       "    </tr>\n",
       "    <tr>\n",
       "      <th>11</th>\n",
       "      <td>1</td>\n",
       "      <td>0.914532</td>\n",
       "    </tr>\n",
       "    <tr>\n",
       "      <th>12</th>\n",
       "      <td>1</td>\n",
       "      <td>0.601175</td>\n",
       "    </tr>\n",
       "    <tr>\n",
       "      <th>13</th>\n",
       "      <td>0</td>\n",
       "      <td>0.601175</td>\n",
       "    </tr>\n",
       "    <tr>\n",
       "      <th>14</th>\n",
       "      <td>2</td>\n",
       "      <td>0.914532</td>\n",
       "    </tr>\n",
       "    <tr>\n",
       "      <th>15</th>\n",
       "      <td>1</td>\n",
       "      <td>0.914532</td>\n",
       "    </tr>\n",
       "    <tr>\n",
       "      <th>16</th>\n",
       "      <td>1</td>\n",
       "      <td>0.601175</td>\n",
       "    </tr>\n",
       "    <tr>\n",
       "      <th>17</th>\n",
       "      <td>1</td>\n",
       "      <td>0.914532</td>\n",
       "    </tr>\n",
       "    <tr>\n",
       "      <th>18</th>\n",
       "      <td>0</td>\n",
       "      <td>0.601175</td>\n",
       "    </tr>\n",
       "    <tr>\n",
       "      <th>19</th>\n",
       "      <td>0</td>\n",
       "      <td>0.601175</td>\n",
       "    </tr>\n",
       "    <tr>\n",
       "      <th>20</th>\n",
       "      <td>1</td>\n",
       "      <td>0.914532</td>\n",
       "    </tr>\n",
       "    <tr>\n",
       "      <th>21</th>\n",
       "      <td>1</td>\n",
       "      <td>0.914532</td>\n",
       "    </tr>\n",
       "    <tr>\n",
       "      <th>22</th>\n",
       "      <td>1</td>\n",
       "      <td>0.601175</td>\n",
       "    </tr>\n",
       "    <tr>\n",
       "      <th>23</th>\n",
       "      <td>0</td>\n",
       "      <td>0.601175</td>\n",
       "    </tr>\n",
       "    <tr>\n",
       "      <th>24</th>\n",
       "      <td>1</td>\n",
       "      <td>0.914532</td>\n",
       "    </tr>\n",
       "    <tr>\n",
       "      <th>25</th>\n",
       "      <td>1</td>\n",
       "      <td>0.914532</td>\n",
       "    </tr>\n",
       "    <tr>\n",
       "      <th>26</th>\n",
       "      <td>0</td>\n",
       "      <td>0.601175</td>\n",
       "    </tr>\n",
       "    <tr>\n",
       "      <th>27</th>\n",
       "      <td>3</td>\n",
       "      <td>0.601175</td>\n",
       "    </tr>\n",
       "    <tr>\n",
       "      <th>28</th>\n",
       "      <td>0</td>\n",
       "      <td>0.601175</td>\n",
       "    </tr>\n",
       "    <tr>\n",
       "      <th>29</th>\n",
       "      <td>0</td>\n",
       "      <td>0.601175</td>\n",
       "    </tr>\n",
       "  </tbody>\n",
       "</table>\n",
       "</div>"
      ],
      "text/plain": [
       "    Actual  Predicted\n",
       "0        1   0.914532\n",
       "1        2   0.914532\n",
       "2        1   0.914532\n",
       "3        0   0.601175\n",
       "4        0   0.601175\n",
       "5        1   0.914532\n",
       "6        1   0.601175\n",
       "7        1   0.914532\n",
       "8        1   0.914532\n",
       "9        1   0.601175\n",
       "10       1   0.914532\n",
       "11       1   0.914532\n",
       "12       1   0.601175\n",
       "13       0   0.601175\n",
       "14       2   0.914532\n",
       "15       1   0.914532\n",
       "16       1   0.601175\n",
       "17       1   0.914532\n",
       "18       0   0.601175\n",
       "19       0   0.601175\n",
       "20       1   0.914532\n",
       "21       1   0.914532\n",
       "22       1   0.601175\n",
       "23       0   0.601175\n",
       "24       1   0.914532\n",
       "25       1   0.914532\n",
       "26       0   0.601175\n",
       "27       3   0.601175\n",
       "28       0   0.601175\n",
       "29       0   0.601175"
      ]
     },
     "execution_count": 27,
     "metadata": {},
     "output_type": "execute_result"
    }
   ],
   "source": [
    "# Creating a dataframe comparing the actual and predicted values of y.\n",
    "\n",
    "data = pd.DataFrame({'Actual': y_test.flatten(), 'Predicted': y_predicted.flatten()})\n",
    "data.head(30)"
   ]
  },
  {
   "cell_type": "code",
   "execution_count": 28,
   "id": "679c5bd2-41e2-4208-9601-5cd7a99c4643",
   "metadata": {},
   "outputs": [],
   "source": [
    "# Predict.\n",
    "\n",
    "y_predicted_train = regression.predict(X_train) # This is predicting X_train!"
   ]
  },
  {
   "cell_type": "code",
   "execution_count": 29,
   "id": "b3427a25-8cc1-4fab-b2ec-9799f38661b0",
   "metadata": {},
   "outputs": [],
   "source": [
    "rmse = mean_squared_error(y_train, y_predicted_train)\n",
    "r2 = r2_score(y_train, y_predicted_train)"
   ]
  },
  {
   "cell_type": "code",
   "execution_count": 30,
   "id": "3f25b74f-4265-46de-8162-2b6f8036b986",
   "metadata": {},
   "outputs": [
    {
     "name": "stdout",
     "output_type": "stream",
     "text": [
      "Slope: [[-0.31335697]]\n",
      "Mean squared error:  0.7170021893486337\n",
      "R2 score:  0.0666709102368882\n"
     ]
    }
   ],
   "source": [
    "print('Slope:' ,regression.coef_)\n",
    "print('Mean squared error: ', rmse)\n",
    "print('R2 score: ', r2)"
   ]
  },
  {
   "cell_type": "code",
   "execution_count": 31,
   "id": "dfd6fcb6-9115-4310-9297-056731dcbd9b",
   "metadata": {},
   "outputs": [
    {
     "data": {
      "image/png": "[encoded data removed]",
      "text/plain": [
       "<Figure size 640x480 with 1 Axes>"
      ]
     },
     "metadata": {},
     "output_type": "display_data"
    }
   ],
   "source": [
    "# Visualizing the training set results.\n",
    "plot_test = plt\n",
    "plot_test.scatter(X_train, y_train, color='gray', s = 15)\n",
    "plot_test.plot(X_train, y_predicted_train, color='red', linewidth =3)\n",
    "plot_test.title('n_killed vs n_injured (Train set)')\n",
    "plot_test.xlabel('n_killed')\n",
    "plot_test.ylabel('n_injured')\n",
    "plot_test.show()"
   ]
  },
  {
   "cell_type": "markdown",
   "id": "e8540c63-3f9f-4b5f-865e-589cd83de062",
   "metadata": {},
   "source": [
    "The test sets result is replicated in the train set as well. Thus, validating the so large extent the no.of injuries is inversely proportional to the no.of killing. In this particular data set, the chances of possible data bias looks negligible. This analysis validate second hypothesis that low injuries does not necessarily comply that the incident recorded no fatalities."
   ]
  },
  {
   "cell_type": "markdown",
   "id": "0ec17092-5bc1-471b-91f3-195abb17c244",
   "metadata": {},
   "source": [
    "## 4. Preparing data for further analysis to answer other research questions"
   ]
  },
  {
   "cell_type": "code",
   "execution_count": 34,
   "id": "01151755-7bb3-46b1-8727-f2761ddc1f6b",
   "metadata": {},
   "outputs": [
    {
     "data": {
      "text/plain": [
       "date\n",
       "2017-01-01    123\n",
       "2016-08-21    105\n",
       "2016-08-28    104\n",
       "2017-07-05    103\n",
       "2017-06-11     97\n",
       "             ... \n",
       "2013-10-13      1\n",
       "2013-10-26      1\n",
       "2013-10-27      1\n",
       "2013-11-10      1\n",
       "2013-01-01      1\n",
       "Name: count, Length: 1622, dtype: int64"
      ]
     },
     "execution_count": 34,
     "metadata": {},
     "output_type": "execute_result"
    }
   ],
   "source": [
    "df_2['date'].value_counts()"
   ]
  },
  {
   "cell_type": "markdown",
   "id": "2640416d-c12c-4b1c-a26b-66f5c87fa4de",
   "metadata": {},
   "source": [
    "### Creating Year, Month and Day columns"
   ]
  },
  {
   "cell_type": "code",
   "execution_count": 36,
   "id": "bc54a0aa-524a-43b9-9188-8e000d2ad228",
   "metadata": {},
   "outputs": [
    {
     "name": "stderr",
     "output_type": "stream",
     "text": [
      "/var/folders/38/3t8_0dvn1h950p6h5yqb56rm0000gn/T/ipykernel_44786/1492287912.py:2: SettingWithCopyWarning: \n",
      "A value is trying to be set on a copy of a slice from a DataFrame.\n",
      "Try using .loc[row_indexer,col_indexer] = value instead\n",
      "\n",
      "See the caveats in the documentation: https://pandas.pydata.org/pandas-docs/stable/user_guide/indexing.html#returning-a-view-versus-a-copy\n",
      "  df_2['date']=pd.to_datetime(df['date']) # Converting date to datetime format\n",
      "/var/folders/38/3t8_0dvn1h950p6h5yqb56rm0000gn/T/ipykernel_44786/1492287912.py:4: SettingWithCopyWarning: \n",
      "A value is trying to be set on a copy of a slice from a DataFrame.\n",
      "Try using .loc[row_indexer,col_indexer] = value instead\n",
      "\n",
      "See the caveats in the documentation: https://pandas.pydata.org/pandas-docs/stable/user_guide/indexing.html#returning-a-view-versus-a-copy\n",
      "  df_2['year']=df_2['date'].dt.year # Extracting year into seperate columns\n",
      "/var/folders/38/3t8_0dvn1h950p6h5yqb56rm0000gn/T/ipykernel_44786/1492287912.py:5: SettingWithCopyWarning: \n",
      "A value is trying to be set on a copy of a slice from a DataFrame.\n",
      "Try using .loc[row_indexer,col_indexer] = value instead\n",
      "\n",
      "See the caveats in the documentation: https://pandas.pydata.org/pandas-docs/stable/user_guide/indexing.html#returning-a-view-versus-a-copy\n",
      "  df_2['month']=df_2['date'].dt.month # Extracting month into seperate columns\n",
      "/var/folders/38/3t8_0dvn1h950p6h5yqb56rm0000gn/T/ipykernel_44786/1492287912.py:6: SettingWithCopyWarning: \n",
      "A value is trying to be set on a copy of a slice from a DataFrame.\n",
      "Try using .loc[row_indexer,col_indexer] = value instead\n",
      "\n",
      "See the caveats in the documentation: https://pandas.pydata.org/pandas-docs/stable/user_guide/indexing.html#returning-a-view-versus-a-copy\n",
      "  df_2['day']=df_2['date'].dt.day # Extracting day into seperate columns\n"
     ]
    }
   ],
   "source": [
    "#Spliting date column into three separate columns: year, month and day\n",
    "df_2['date']=pd.to_datetime(df['date']) # Converting date to datetime format\n",
    "\n",
    "df_2['year']=df_2['date'].dt.year # Extracting year into seperate columns\n",
    "df_2['month']=df_2['date'].dt.month # Extracting month into seperate columns\n",
    "df_2['day']=df_2['date'].dt.day # Extracting day into seperate columns "
   ]
  },
  {
   "cell_type": "code",
   "execution_count": 37,
   "id": "5a731a65-def6-4faf-b23d-e0a1ac1eef5c",
   "metadata": {},
   "outputs": [
    {
     "data": {
      "text/plain": [
       "Index(['date', 'state', 'n_killed', 'n_injured', 'age_group', 'gender',\n",
       "       'status', 'year', 'month', 'day'],\n",
       "      dtype='object')"
      ]
     },
     "execution_count": 37,
     "metadata": {},
     "output_type": "execute_result"
    }
   ],
   "source": [
    "# Checking no. of columns after creating news columns\n",
    "df_2.columns"
   ]
  },
  {
   "cell_type": "code",
   "execution_count": 38,
   "id": "e79afe51-3d6a-4b31-84ee-6975d15a0130",
   "metadata": {},
   "outputs": [
    {
     "data": {
      "text/plain": [
       "(45403, 10)"
      ]
     },
     "execution_count": 38,
     "metadata": {},
     "output_type": "execute_result"
    }
   ],
   "source": [
    "df_2.shape"
   ]
  },
  {
   "cell_type": "code",
   "execution_count": 39,
   "id": "bdef1e6d-3068-4b4e-ae95-958d728df728",
   "metadata": {},
   "outputs": [
    {
     "data": {
      "text/html": [
       "<div>\n",
       "<style scoped>\n",
       "    .dataframe tbody tr th:only-of-type {\n",
       "        vertical-align: middle;\n",
       "    }\n",
       "\n",
       "    .dataframe tbody tr th {\n",
       "        vertical-align: top;\n",
       "    }\n",
       "\n",
       "    .dataframe thead th {\n",
       "        text-align: right;\n",
       "    }\n",
       "</style>\n",
       "<table border=\"1\" class=\"dataframe\">\n",
       "  <thead>\n",
       "    <tr style=\"text-align: right;\">\n",
       "      <th></th>\n",
       "      <th>date</th>\n",
       "      <th>state</th>\n",
       "      <th>n_killed</th>\n",
       "      <th>n_injured</th>\n",
       "      <th>age_group</th>\n",
       "      <th>gender</th>\n",
       "      <th>status</th>\n",
       "      <th>year</th>\n",
       "      <th>month</th>\n",
       "      <th>day</th>\n",
       "    </tr>\n",
       "  </thead>\n",
       "  <tbody>\n",
       "    <tr>\n",
       "      <th>0</th>\n",
       "      <td>2013-01-01</td>\n",
       "      <td>Ohio</td>\n",
       "      <td>1</td>\n",
       "      <td>3</td>\n",
       "      <td>0::Adult 18+||1::Adult 18+||2::Adult 18+||3::A...</td>\n",
       "      <td>0::Male||1::Male||2::Male||3::Male||4::Male</td>\n",
       "      <td>0::Injured, Unharmed, Arrested||1::Unharmed, A...</td>\n",
       "      <td>2013</td>\n",
       "      <td>1</td>\n",
       "      <td>1</td>\n",
       "    </tr>\n",
       "    <tr>\n",
       "      <th>1</th>\n",
       "      <td>2013-01-07</td>\n",
       "      <td>North Carolina</td>\n",
       "      <td>2</td>\n",
       "      <td>2</td>\n",
       "      <td>0::Adult 18+||1::Adult 18+||2::Teen 12-17||3::...</td>\n",
       "      <td>0::Female||1::Male||2::Male||3::Female</td>\n",
       "      <td>0::Injured||1::Injured||2::Killed||3::Killed</td>\n",
       "      <td>2013</td>\n",
       "      <td>1</td>\n",
       "      <td>7</td>\n",
       "    </tr>\n",
       "    <tr>\n",
       "      <th>2</th>\n",
       "      <td>2013-01-19</td>\n",
       "      <td>New Mexico</td>\n",
       "      <td>5</td>\n",
       "      <td>0</td>\n",
       "      <td>0::Adult 18+||1::Adult 18+||2::Child 0-11||3::...</td>\n",
       "      <td>0::Male||1::Female||2::Male||3::Female||4::Fem...</td>\n",
       "      <td>0::Killed||1::Killed||2::Killed||3::Killed||4:...</td>\n",
       "      <td>2013</td>\n",
       "      <td>1</td>\n",
       "      <td>19</td>\n",
       "    </tr>\n",
       "    <tr>\n",
       "      <th>3</th>\n",
       "      <td>2013-01-23</td>\n",
       "      <td>Tennessee</td>\n",
       "      <td>1</td>\n",
       "      <td>3</td>\n",
       "      <td>0::Adult 18+</td>\n",
       "      <td>0::Male||1::Male||2::Male||3::Male</td>\n",
       "      <td>0::Killed||1::Injured||2::Injured||3::Injured</td>\n",
       "      <td>2013</td>\n",
       "      <td>1</td>\n",
       "      <td>23</td>\n",
       "    </tr>\n",
       "    <tr>\n",
       "      <th>4</th>\n",
       "      <td>2013-01-25</td>\n",
       "      <td>Missouri</td>\n",
       "      <td>1</td>\n",
       "      <td>3</td>\n",
       "      <td>0::Adult 18+</td>\n",
       "      <td>0::Male</td>\n",
       "      <td>0::Killed||1::Injured||2::Injured||3::Injured</td>\n",
       "      <td>2013</td>\n",
       "      <td>1</td>\n",
       "      <td>25</td>\n",
       "    </tr>\n",
       "  </tbody>\n",
       "</table>\n",
       "</div>"
      ],
      "text/plain": [
       "        date           state  n_killed  n_injured  \\\n",
       "0 2013-01-01            Ohio         1          3   \n",
       "1 2013-01-07  North Carolina         2          2   \n",
       "2 2013-01-19      New Mexico         5          0   \n",
       "3 2013-01-23       Tennessee         1          3   \n",
       "4 2013-01-25        Missouri         1          3   \n",
       "\n",
       "                                           age_group  \\\n",
       "0  0::Adult 18+||1::Adult 18+||2::Adult 18+||3::A...   \n",
       "1  0::Adult 18+||1::Adult 18+||2::Teen 12-17||3::...   \n",
       "2  0::Adult 18+||1::Adult 18+||2::Child 0-11||3::...   \n",
       "3                                       0::Adult 18+   \n",
       "4                                       0::Adult 18+   \n",
       "\n",
       "                                              gender  \\\n",
       "0        0::Male||1::Male||2::Male||3::Male||4::Male   \n",
       "1             0::Female||1::Male||2::Male||3::Female   \n",
       "2  0::Male||1::Female||2::Male||3::Female||4::Fem...   \n",
       "3                 0::Male||1::Male||2::Male||3::Male   \n",
       "4                                            0::Male   \n",
       "\n",
       "                                              status  year  month  day  \n",
       "0  0::Injured, Unharmed, Arrested||1::Unharmed, A...  2013      1    1  \n",
       "1       0::Injured||1::Injured||2::Killed||3::Killed  2013      1    7  \n",
       "2  0::Killed||1::Killed||2::Killed||3::Killed||4:...  2013      1   19  \n",
       "3      0::Killed||1::Injured||2::Injured||3::Injured  2013      1   23  \n",
       "4      0::Killed||1::Injured||2::Injured||3::Injured  2013      1   25  "
      ]
     },
     "execution_count": 39,
     "metadata": {},
     "output_type": "execute_result"
    }
   ],
   "source": [
    "df_2.head()"
   ]
  },
  {
   "cell_type": "code",
   "execution_count": 40,
   "id": "8ecfefb8-876c-468f-a3fb-c7b90cb20c54",
   "metadata": {},
   "outputs": [],
   "source": [
    "# Calculating change in gun violence injuries from 2013-2018\n",
    "df_3=df_2.groupby('year').n_injured.sum().sort_values()"
   ]
  },
  {
   "cell_type": "code",
   "execution_count": 41,
   "id": "656f509f-4786-49fb-b341-aff84ff55a34",
   "metadata": {},
   "outputs": [
    {
     "data": {
      "text/plain": [
       "year\n",
       "2013      233\n",
       "2014     1272\n",
       "2018     2853\n",
       "2015     4368\n",
       "2016     8886\n",
       "2017    16153\n",
       "Name: n_injured, dtype: int64"
      ]
     },
     "execution_count": 41,
     "metadata": {},
     "output_type": "execute_result"
    }
   ],
   "source": [
    "df_3"
   ]
  },
  {
   "cell_type": "code",
   "execution_count": 42,
   "id": "4a28f063-a232-4e99-9729-c68fdd84add2",
   "metadata": {},
   "outputs": [],
   "source": [
    "# Calculating change in gun violence death from 2013-2018\n",
    "df_4=df_2.groupby('year').n_killed.sum().sort_values()"
   ]
  },
  {
   "cell_type": "code",
   "execution_count": 43,
   "id": "3aae1b0c-077b-4cc0-b503-1dc9b91a2297",
   "metadata": {},
   "outputs": [
    {
     "data": {
      "text/plain": [
       "year\n",
       "2013      132\n",
       "2014     1526\n",
       "2018     2419\n",
       "2015     3185\n",
       "2016     6053\n",
       "2017    11322\n",
       "Name: n_killed, dtype: int64"
      ]
     },
     "execution_count": 43,
     "metadata": {},
     "output_type": "execute_result"
    }
   ],
   "source": [
    "df_4"
   ]
  },
  {
   "cell_type": "code",
   "execution_count": 44,
   "id": "ba6dd3a9-0fe3-45b0-8ea5-df0760e5e195",
   "metadata": {},
   "outputs": [
    {
     "data": {
      "text/plain": [
       "Text(0.5, 1.0, 'Gun Killing in the US, 2013-2018')"
      ]
     },
     "execution_count": 44,
     "metadata": {},
     "output_type": "execute_result"
    },
    {
     "data": {
      "image/png": "[encoded data removed]",
      "text/plain": [
       "<Figure size 1000x700 with 1 Axes>"
      ]
     },
     "metadata": {},
     "output_type": "display_data"
    }
   ],
   "source": [
    "# Which year sees the highest number of death from gun violence?\n",
    "df_2.groupby('year').n_killed.sum().plot(kind='bar', color='darkred', figsize=(10,7))\n",
    "plt.ylabel('Number of deaths', fontsize=10)\n",
    "plt.xlabel('year', fontsize=10)\n",
    "plt.title('Gun Killing in the US, 2013-2018', fontsize=15)"
   ]
  },
  {
   "cell_type": "code",
   "execution_count": 45,
   "id": "049ab615-2671-4b44-8ba3-4ce05dc44940",
   "metadata": {},
   "outputs": [
    {
     "data": {
      "text/plain": [
       "Text(0.5, 1.0, 'Gun Injuries in the US, 2013-2018')"
      ]
     },
     "execution_count": 45,
     "metadata": {},
     "output_type": "execute_result"
    },
    {
     "data": {
      "image/png": "[encoded data removed]",
      "text/plain": [
       "<Figure size 1000x700 with 1 Axes>"
      ]
     },
     "metadata": {},
     "output_type": "display_data"
    }
   ],
   "source": [
    "# Which year sees the highest number of injury from gun violence?\n",
    "df_2.groupby('year').n_injured.sum().plot(kind='bar', color='darkblue', figsize=(10,7))\n",
    "plt.ylabel('Number of injured', fontsize=10)\n",
    "plt.xlabel('year', fontsize=10)\n",
    "plt.title('Gun Injuries in the US, 2013-2018', fontsize=15)"
   ]
  },
  {
   "cell_type": "markdown",
   "id": "932ac49d-6418-4fd2-abd5-8977de856c8e",
   "metadata": {},
   "source": [
    "Based on the above two graphs, it can be concluded that severity of gun death increased drastically from 2013 to 2017, with 2017 being the deadliest year. However, the violence did saw significant decrease in 2018. "
   ]
  },
  {
   "cell_type": "code",
   "execution_count": 47,
   "id": "29a58e2b-1240-4c01-96d5-b50c2cd2321c",
   "metadata": {},
   "outputs": [],
   "source": [
    "# Export of data\n",
    "df_2.to_csv('gun_violence_year_on_year',index=False)"
   ]
  }
 ],
 "metadata": {
  "kernelspec": {
   "display_name": "Python 3 (ipykernel)",
   "language": "python",
   "name": "python3"
  },
  "language_info": {
   "codemirror_mode": {
    "name": "ipython",
    "version": 3
   },
   "file_extension": ".py",
   "mimetype": "text/x-python",
   "name": "python",
   "nbconvert_exporter": "python",
   "pygments_lexer": "ipython3",
   "version": "3.12.4"
  }
 },
 "nbformat": 4,
 "nbformat_minor": 5
}
